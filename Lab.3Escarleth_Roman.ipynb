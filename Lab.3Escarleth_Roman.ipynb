{
 "cells": [
  {
   "cell_type": "markdown",
   "metadata": {},
   "source": [
    "Laboratorio #3\n",
    "Escarleth Roman\n",
    "12288004"
   ]
  },
  {
   "cell_type": "markdown",
   "metadata": {},
   "source": [
    " 1. Cree un procedimiento en Python dado un numero entero en decimal despliegue su representacion en numero binario"
   ]
  },
  {
   "cell_type": "code",
   "execution_count": 3,
   "metadata": {},
   "outputs": [
    {
     "name": "stdout",
     "output_type": "stream",
     "text": [
      "La representacion en numero binario es 1010\n"
     ]
    }
   ],
   "source": [
    "def decimal_binario (num):\n",
    "    if num < 0:\n",
    "        print(\"Ingrese un num. entero\")\n",
    "        return\n",
    "    binario = bin(num)[2:]\n",
    "    print(f\"La representacion en numero binario es {binario}\")\n",
    "\n",
    "numero=int(input(\"Ingrese un numero entero:\"))\n",
    "decimal_binario(numero)"
   ]
  },
  {
   "cell_type": "markdown",
   "metadata": {},
   "source": [
    " 2. Desarrolle en Python una funcion que devuelva verdadero si un numero entero que recibe como parametro es primo y devuelva falso en el caso contrario"
   ]
  },
  {
   "cell_type": "code",
   "execution_count": 8,
   "metadata": {},
   "outputs": [
    {
     "name": "stdout",
     "output_type": "stream",
     "text": [
      "10 no es numero primo\n"
     ]
    }
   ],
   "source": [
    "def primo(numero):\n",
    "    if numero <= 1:\n",
    "        return False\n",
    "    for i in range(2, numero):\n",
    "        if numero % i == 0:\n",
    "            return False\n",
    "    return True\n",
    "\n",
    "num=int(input(\"Ingrese numero entero\"))\n",
    "if primo(num):\n",
    "    print (f\"{num} es un numero primo\")\n",
    "else:\n",
    "    print (f\"{num} no es numero primo\")"
   ]
  },
  {
   "cell_type": "markdown",
   "metadata": {},
   "source": [
    " 3. Haga un programa en Python que dada una lista de n numeros, calcule la desviacion estandar del conjunto de numeros, para este ejercicio no puede utilizar ninguna funcion que resuelva  el problema."
   ]
  },
  {
   "cell_type": "code",
   "execution_count": 12,
   "metadata": {},
   "outputs": [
    {
     "name": "stdout",
     "output_type": "stream",
     "text": [
      "La desviacion estandar es: 35.58\n"
     ]
    }
   ],
   "source": [
    "import math\n",
    "def calculo_desviacion_estatar (lista):\n",
    "    n = len (lista)\n",
    "    if n == 0:\n",
    "        return \"Lista vacia\"\n",
    "    \n",
    "    suma = sum(lista)\n",
    "    media = suma / n\n",
    "\n",
    "    suma_cuadrados = 0\n",
    "    for num in lista:\n",
    "        suma_cuadrados += (num-media) ** 2\n",
    "    \n",
    "    var = suma_cuadrados/n\n",
    "\n",
    "    desviacion_estandar = round(math.sqrt(var),2)\n",
    "    return desviacion_estandar\n",
    "\n",
    "lista=[float(x) for x in input(\"Ingrese los numeros\").split()]\n",
    "respuesta = calculo_desviacion_estatar(lista)\n",
    "print(f\"La desviacion estandar es: {respuesta}\")\n"
   ]
  },
  {
   "cell_type": "markdown",
   "metadata": {},
   "source": [
    "4. Desarrolle en Python una funcion que dado un arreglo de corra el algoritmo de ordenamiento burbuja y devuelva un nuevo arreglo ordenado. Posteriormente cree una funcion main para probar su funcion."
   ]
  },
  {
   "cell_type": "code",
   "execution_count": 16,
   "metadata": {},
   "outputs": [
    {
     "name": "stdout",
     "output_type": "stream",
     "text": [
      "orden original: [85, 99, 250, 12, 75, 63, 14, 785, 54, 21, 36, 70]\n",
      "orden modificado: [12, 14, 21, 36, 54, 63, 70, 75, 85, 99, 250, 785]\n"
     ]
    }
   ],
   "source": [
    "def funcion_ordenar (orden):\n",
    "    n = len (orden)\n",
    "    for i in range(n):\n",
    "        for j in range(0, n-i-1):\n",
    "            if orden[j]>orden[j+1]:\n",
    "                orden[j], orden[j+1] = orden[j+1], orden[j]\n",
    "    return orden\n",
    "\n",
    "def main():\n",
    "    orden=[85, 99,250,12,75,63,14,785,54,21,36,70]\n",
    "    print(\"orden original:\" ,orden)\n",
    "    orden_modificado=funcion_ordenar(orden)\n",
    "    print(\"orden modificado:\",orden_modificado)\n",
    "\n",
    "if __name__==\"__main__\":\n",
    "    main()\n",
    "\n"
   ]
  },
  {
   "cell_type": "markdown",
   "metadata": {},
   "source": [
    " 5. Escriba una funcion en Python que dada una tupla de elementos (numeros o letras) esta se  convierta a un string. Tomar nota del siguiente ejemplo:\n",
    " \n",
    " Si la entrada fuera: (10, 20, 40, 5, 70)  \n",
    " La salida debera ser: 102040570"
   ]
  },
  {
   "cell_type": "code",
   "execution_count": 22,
   "metadata": {},
   "outputs": [
    {
     "name": "stdout",
     "output_type": "stream",
     "text": [
      "respuesta 102040570\n"
     ]
    }
   ],
   "source": [
    "def convertir_tupla(tupla):\n",
    "    return ''.join(str(elemento) for elemento in tupla)\n",
    "\n",
    "tupla_ingreso=(10,20,40,5,70)\n",
    "tupla_Salida= convertir_tupla(tupla_ingreso)\n",
    "print(\"respuesta\", tupla_Salida)\n",
    "\n"
   ]
  },
  {
   "cell_type": "markdown",
   "metadata": {},
   "source": [
    " 6. Cree un programa en Python que dada una lista de tuplas, elimine las tuplas que estan vacas.\n",
    " Tomar nota del siguiente ejemplo:\n",
    " Si la lista fuera: [(), (), (X,), (a, b), (a, b, c), (d)]\n",
    " El resultado debera ser: [(X), (a, b), (a, b, c), d]"
   ]
  },
  {
   "cell_type": "code",
   "execution_count": 26,
   "metadata": {},
   "outputs": [
    {
     "name": "stdout",
     "output_type": "stream",
     "text": [
      "Resultado: [('X',), ('a', 'b'), ('a', 'b', 'c'), 'd']\n"
     ]
    }
   ],
   "source": [
    "def tuplas_vacias(lista_tuplas):\n",
    "    return [tupla for tupla in lista_tuplas if tupla]\n",
    "lista =[(), (), ('X',), ('a', 'b'), ('a', 'b', 'c'), ('d')]\n",
    "resultado = tuplas_vacias(lista)\n",
    "print(\"Resultado:\", resultado)"
   ]
  },
  {
   "cell_type": "markdown",
   "metadata": {},
   "source": [
    " 7. Cree una funcion en Python que dada una tupla de tuplas con numeros, produzca una tupla con el promedio de cada tupla individual. Tomar nota del siguiente ejemplo:\n",
    " Si la tupla de entrada fuera: ((10, 10, 10, 12), (30, 45, 56, 45), (81, 80, 39, 32))\n",
    " El resultado debera ser: (10.5, 44, 58)"
   ]
  },
  {
   "cell_type": "code",
   "execution_count": 27,
   "metadata": {},
   "outputs": [
    {
     "name": "stdout",
     "output_type": "stream",
     "text": [
      "Resultado: (10.5, 44.0, 58.0)\n"
     ]
    }
   ],
   "source": [
    "def promedio (tupla_prom):\n",
    "    return tuple(sum(tupla)/len(tupla) for tupla in tupla_prom)\n",
    "\n",
    "tupla_entrada = ((10, 10, 10, 12), (30, 45, 56, 45), (81, 80, 39, 32))\n",
    "resultado = promedio(tupla_entrada)\n",
    "print(\"Resultado:\", resultado)"
   ]
  },
  {
   "cell_type": "markdown",
   "metadata": {},
   "source": [
    " 8. El objetivo es crear una representacion de un libro usando programacion orientada a objetos. Debes definir una clase llamada Libro que tenga atributos como el ttulo, el autor, el numero de paginas y un indicador de si el libro ha sido ledo o no. Ademas, debes implementar metodos para:\n",
    " Inicializar un nuevo libro con su informacion.\n",
    " Marcar un libro como ledo.\n",
    " Producir una descripcion legible del libro que incluya todos sus detalles"
   ]
  },
  {
   "cell_type": "code",
   "execution_count": 29,
   "metadata": {},
   "outputs": [
    {
     "name": "stdout",
     "output_type": "stream",
     "text": [
      "Libro: Don Quijote de la Mancha\n",
      "Autor: Miguel de Cervantes\n",
      "paginas: 1000\n",
      "Leído: NO\n",
      "\n",
      "Despues de marcar como leido:\n",
      "Libro: Don Quijote de la Mancha\n",
      "Autor: Miguel de Cervantes\n",
      "paginas: 1000\n",
      "Leído: SI\n"
     ]
    }
   ],
   "source": [
    "class Libro:\n",
    "    def __init__(self, titulo, autor, paginas):\n",
    "        self.titulo = titulo\n",
    "        self.autor= autor\n",
    "        self.paginas = paginas\n",
    "        self.leido= False\n",
    "\n",
    "    def marcar_leido(self):\n",
    "        self.leido= True\n",
    "\n",
    "    def descripcion (self):\n",
    "        leido_str = \"SI\" if self.leido else \"NO\"\n",
    "        return f\"Libro: {self.titulo}\\nAutor: {self.autor}\\npaginas: {self.paginas}\\nLeído: {leido_str}\"\n",
    "    \n",
    "libro1 = Libro(\"Don Quijote de la Mancha\",\"Miguel de Cervantes\", 1000)\n",
    "\n",
    "print(libro1.descripcion())\n",
    "libro1.marcar_leido()\n",
    "\n",
    "print(\"\\nDespues de marcar como leido:\")\n",
    "print(libro1.descripcion())\n"
   ]
  },
  {
   "cell_type": "markdown",
   "metadata": {},
   "source": [
    " 9. Cree una clase llamada Circulo con un atributo para el radio del circulo. Luego, implementaras metodos para:\n",
    " Inicializar un nuevo circulo con su radio.\n",
    " Calcular el area del circulo.\n",
    " Calcular la circunferencia del circulo."
   ]
  },
  {
   "cell_type": "code",
   "execution_count": 31,
   "metadata": {},
   "outputs": [
    {
     "name": "stdout",
     "output_type": "stream",
     "text": [
      "Area del cicculo con radio 5: 78.54\n",
      "Circunferencia del circulo con radio 5: 31.42\n"
     ]
    }
   ],
   "source": [
    "import math\n",
    "\n",
    "class Circulo:\n",
    "    def __init__ (self, radio):\n",
    "        self.radio = radio\n",
    "\n",
    "    def area(self):\n",
    "        return math.pi*self.radio ** 2\n",
    "    \n",
    "    def circunferencia(self):\n",
    "        return 2 * math.pi * self.radio\n",
    "    \n",
    "circulo1 = Circulo(5)\n",
    "\n",
    "print(f\"Area del cicculo con radio {circulo1.radio}: {circulo1.area():.2f}\")\n",
    "print(f\"Circunferencia del circulo con radio {circulo1.radio}: {circulo1.circunferencia():.2f}\")"
   ]
  },
  {
   "cell_type": "code",
   "execution_count": null,
   "metadata": {},
   "outputs": [],
   "source": []
  }
 ],
 "metadata": {
  "kernelspec": {
   "display_name": "venv_prueba",
   "language": "python",
   "name": "python3"
  },
  "language_info": {
   "codemirror_mode": {
    "name": "ipython",
    "version": 3
   },
   "file_extension": ".py",
   "mimetype": "text/x-python",
   "name": "python",
   "nbconvert_exporter": "python",
   "pygments_lexer": "ipython3",
   "version": "3.9.21"
  }
 },
 "nbformat": 4,
 "nbformat_minor": 2
}
