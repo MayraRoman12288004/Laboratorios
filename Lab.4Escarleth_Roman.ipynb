{
 "cells": [
  {
   "cell_type": "markdown",
   "metadata": {},
   "source": [
    "# LABORATORIO 4\n",
    "# ESCARLETH ROMAN"
   ]
  },
  {
   "cell_type": "markdown",
   "metadata": {},
   "source": [
    "#### 1) ¿Cuál es el tamaño en bytes de un array de 1000 elementos de tipo booleano?"
   ]
  },
  {
   "cell_type": "code",
   "execution_count": 2,
   "metadata": {},
   "outputs": [
    {
     "name": "stdout",
     "output_type": "stream",
     "text": [
      "Collecting numpy\n",
      "  Downloading numpy-2.2.4-cp311-cp311-win_amd64.whl.metadata (60 kB)\n",
      "     ---------------------------------------- 0.0/60.8 kB ? eta -:--:--\n",
      "     ------ --------------------------------- 10.2/60.8 kB ? eta -:--:--\n",
      "     ------ --------------------------------- 10.2/60.8 kB ? eta -:--:--\n",
      "     ------------------- ------------------ 30.7/60.8 kB 217.9 kB/s eta 0:00:01\n",
      "     ------------------- ------------------ 30.7/60.8 kB 217.9 kB/s eta 0:00:01\n",
      "     -------------------------------------- 60.8/60.8 kB 249.3 kB/s eta 0:00:00\n",
      "Downloading numpy-2.2.4-cp311-cp311-win_amd64.whl (12.9 MB)\n",
      "   ---------------------------------------- 0.0/12.9 MB ? eta -:--:--\n",
      "   ---------------------------------------- 0.0/12.9 MB ? eta -:--:--\n",
      "   ---------------------------------------- 0.1/12.9 MB 812.7 kB/s eta 0:00:16\n",
      "   ---------------------------------------- 0.1/12.9 MB 1.0 MB/s eta 0:00:13\n",
      "    --------------------------------------- 0.2/12.9 MB 1.2 MB/s eta 0:00:11\n",
      "    --------------------------------------- 0.2/12.9 MB 1.2 MB/s eta 0:00:11\n",
      "    --------------------------------------- 0.3/12.9 MB 1.2 MB/s eta 0:00:11\n",
      "   - -------------------------------------- 0.4/12.9 MB 1.5 MB/s eta 0:00:09\n",
      "   -- ------------------------------------- 0.7/12.9 MB 2.3 MB/s eta 0:00:06\n",
      "   -- ------------------------------------- 0.9/12.9 MB 2.6 MB/s eta 0:00:05\n",
      "   --- ------------------------------------ 1.2/12.9 MB 2.9 MB/s eta 0:00:05\n",
      "   ---- ----------------------------------- 1.4/12.9 MB 3.1 MB/s eta 0:00:04\n",
      "   ---- ----------------------------------- 1.5/12.9 MB 3.1 MB/s eta 0:00:04\n",
      "   ----- ---------------------------------- 1.8/12.9 MB 3.3 MB/s eta 0:00:04\n",
      "   ------ --------------------------------- 2.0/12.9 MB 3.4 MB/s eta 0:00:04\n",
      "   ------- -------------------------------- 2.4/12.9 MB 3.8 MB/s eta 0:00:03\n",
      "   -------- ------------------------------- 2.8/12.9 MB 4.1 MB/s eta 0:00:03\n",
      "   --------- ------------------------------ 3.1/12.9 MB 4.2 MB/s eta 0:00:03\n",
      "   ---------- ----------------------------- 3.3/12.9 MB 4.2 MB/s eta 0:00:03\n",
      "   ---------- ----------------------------- 3.5/12.9 MB 4.2 MB/s eta 0:00:03\n",
      "   ----------- ---------------------------- 3.7/12.9 MB 4.3 MB/s eta 0:00:03\n",
      "   ------------ --------------------------- 4.0/12.9 MB 4.5 MB/s eta 0:00:03\n",
      "   ------------- -------------------------- 4.2/12.9 MB 4.5 MB/s eta 0:00:02\n",
      "   -------------- ------------------------- 4.6/12.9 MB 4.6 MB/s eta 0:00:02\n",
      "   --------------- ------------------------ 5.0/12.9 MB 4.8 MB/s eta 0:00:02\n",
      "   --------------- ------------------------ 5.1/12.9 MB 4.9 MB/s eta 0:00:02\n",
      "   ---------------- ----------------------- 5.3/12.9 MB 4.7 MB/s eta 0:00:02\n",
      "   ----------------- ---------------------- 5.8/12.9 MB 5.0 MB/s eta 0:00:02\n",
      "   ------------------- -------------------- 6.4/12.9 MB 5.3 MB/s eta 0:00:02\n",
      "   -------------------- ------------------- 6.5/12.9 MB 5.2 MB/s eta 0:00:02\n",
      "   -------------------- ------------------- 6.7/12.9 MB 5.2 MB/s eta 0:00:02\n",
      "   --------------------- ------------------ 6.9/12.9 MB 5.2 MB/s eta 0:00:02\n",
      "   ---------------------- ----------------- 7.3/12.9 MB 5.3 MB/s eta 0:00:02\n",
      "   ----------------------- ---------------- 7.5/12.9 MB 5.3 MB/s eta 0:00:02\n",
      "   ----------------------- ---------------- 7.7/12.9 MB 5.3 MB/s eta 0:00:01\n",
      "   ------------------------ --------------- 7.9/12.9 MB 5.3 MB/s eta 0:00:01\n",
      "   ------------------------- -------------- 8.2/12.9 MB 5.2 MB/s eta 0:00:01\n",
      "   -------------------------- ------------- 8.4/12.9 MB 5.2 MB/s eta 0:00:01\n",
      "   -------------------------- ------------- 8.6/12.9 MB 5.2 MB/s eta 0:00:01\n",
      "   --------------------------- ------------ 8.9/12.9 MB 5.2 MB/s eta 0:00:01\n",
      "   ---------------------------- ----------- 9.1/12.9 MB 5.2 MB/s eta 0:00:01\n",
      "   ---------------------------- ----------- 9.3/12.9 MB 5.2 MB/s eta 0:00:01\n",
      "   ----------------------------- ---------- 9.5/12.9 MB 5.2 MB/s eta 0:00:01\n",
      "   ----------------------------- ---------- 9.7/12.9 MB 5.2 MB/s eta 0:00:01\n",
      "   ------------------------------- -------- 10.1/12.9 MB 5.3 MB/s eta 0:00:01\n",
      "   ------------------------------- -------- 10.1/12.9 MB 5.2 MB/s eta 0:00:01\n",
      "   -------------------------------- ------- 10.5/12.9 MB 5.8 MB/s eta 0:00:01\n",
      "   --------------------------------- ------ 10.8/12.9 MB 5.9 MB/s eta 0:00:01\n",
      "   ---------------------------------- ----- 11.2/12.9 MB 6.1 MB/s eta 0:00:01\n",
      "   ----------------------------------- ---- 11.5/12.9 MB 6.1 MB/s eta 0:00:01\n",
      "   ------------------------------------ --- 11.7/12.9 MB 6.1 MB/s eta 0:00:01\n",
      "   ------------------------------------ --- 11.9/12.9 MB 6.1 MB/s eta 0:00:01\n",
      "   ------------------------------------- -- 12.1/12.9 MB 6.0 MB/s eta 0:00:01\n",
      "   -------------------------------------- - 12.4/12.9 MB 6.1 MB/s eta 0:00:01\n",
      "   -------------------------------------- - 12.6/12.9 MB 6.1 MB/s eta 0:00:01\n",
      "   ---------------------------------------  12.7/12.9 MB 6.0 MB/s eta 0:00:01\n",
      "   ---------------------------------------  12.9/12.9 MB 5.8 MB/s eta 0:00:01\n",
      "   ---------------------------------------- 12.9/12.9 MB 5.7 MB/s eta 0:00:00\n",
      "Installing collected packages: numpy\n",
      "Successfully installed numpy-2.2.4\n",
      "Note: you may need to restart the kernel to use updated packages.\n"
     ]
    },
    {
     "name": "stderr",
     "output_type": "stream",
     "text": [
      "\n",
      "[notice] A new release of pip is available: 24.0 -> 25.0.1\n",
      "[notice] To update, run: python.exe -m pip install --upgrade pip\n"
     ]
    }
   ],
   "source": [
    "pip install numpy"
   ]
  },
  {
   "cell_type": "code",
   "execution_count": 3,
   "metadata": {},
   "outputs": [
    {
     "name": "stdout",
     "output_type": "stream",
     "text": [
      "1000\n"
     ]
    }
   ],
   "source": [
    "import numpy as np\n",
    "arr = np.ones(1000, dtype=bool)\n",
    "print (arr.nbytes)"
   ]
  },
  {
   "cell_type": "markdown",
   "metadata": {},
   "source": [
    "#### 2) Cree un array cuyos elementos sean los enteros pares en [1,100] y en orden decreciente.Muestre los 10 últimos por pantalla."
   ]
  },
  {
   "cell_type": "code",
   "execution_count": 4,
   "metadata": {},
   "outputs": [
    {
     "name": "stdout",
     "output_type": "stream",
     "text": [
      "[20 18 16 14 12 10  8  6  4  2]\n"
     ]
    }
   ],
   "source": [
    "import numpy as np\n",
    "arr = np.arange(100, 0, -2)\n",
    "print(arr[-10:])"
   ]
  },
  {
   "cell_type": "markdown",
   "metadata": {},
   "source": [
    "#### 3. Dado el array\n",
    "#### 2 4 5 6\n",
    "#### 0 3 7 4 \n",
    "#### 8 8 5 2 \n",
    "#### 1 5 6 1 \n",
    "#### Seleccione con una instrucción el subarray de elementos  \n",
    "#### 0 3 7 4 \n",
    "#### Después, seleccione el subarray de elementos  \n",
    "#### 2 5 \n",
    "#### 8 5"
   ]
  },
  {
   "cell_type": "code",
   "execution_count": 6,
   "metadata": {},
   "outputs": [
    {
     "name": "stdout",
     "output_type": "stream",
     "text": [
      "Subarray 1:\n",
      " [0 3 7 4]\n",
      "Subarray 2:\n",
      " [2 5]\n"
     ]
    }
   ],
   "source": [
    "import numpy as np\n",
    "\n",
    "numeros = np.array([\n",
    "    [2, 4, 5, 6],\n",
    "    [0, 3, 7, 4],\n",
    "    [8, 8, 5, 2],\n",
    "    [1, 5, 6, 1]\n",
    "])\n",
    "\n",
    "subarray_1 = numeros[1, :]\n",
    "print(\"Subarray 1:\\n\", subarray_1)\n",
    "\n",
    "subarray_2 = numeros[[0, 2], [0, 2]]\n",
    "print(\"Subarray 2:\\n\", subarray_2)"
   ]
  },
  {
   "cell_type": "markdown",
   "metadata": {},
   "source": [
    "### 4.Dados los arrays a = [1, 4, 2, 7] y b = [1, 3, 2, 9], obtenga la media aritmética de la diferencia (a-b). "
   ]
  },
  {
   "cell_type": "code",
   "execution_count": 8,
   "metadata": {},
   "outputs": [
    {
     "name": "stdout",
     "output_type": "stream",
     "text": [
      "Diferencia (a - b): [ 0  1  0 -2]\n",
      "Media aritmética de la diferencia: -0.25\n"
     ]
    }
   ],
   "source": [
    "import numpy as np\n",
    "a = np.array([1, 4, 2, 7])\n",
    "b = np.array([1, 3, 2, 9])\n",
    "diferencia = a - b\n",
    "media_aritmetica = np.mean(diferencia)\n",
    "print(\"Diferencia (a - b):\", diferencia)\n",
    "print(\"Media aritmética de la diferencia:\", media_aritmetica)\n"
   ]
  },
  {
   "cell_type": "markdown",
   "metadata": {},
   "source": [
    "###  5. Tengo valores de cordenadas (x, y) en las columnas del array  \n",
    "### 1.33 4.5 \n",
    "### 30.0 10.7 \n",
    "### 70.2 0.5"
   ]
  },
  {
   "cell_type": "code",
   "execution_count": 9,
   "metadata": {},
   "outputs": [
    {
     "name": "stdout",
     "output_type": "stream",
     "text": [
      "Array actualizado:\n",
      " [[ 1.33  4.5 ]\n",
      " [30.   10.7 ]\n",
      " [70.2   0.5 ]\n",
      " [37.1  -3.6 ]]\n",
      "Dimensiones del nuevo array: (4, 2)\n"
     ]
    }
   ],
   "source": [
    "import numpy as np\n",
    "coordenadas = np.array([\n",
    "    [1.33, 4.5],\n",
    "    [30.0, 10.7],\n",
    "    [70.2, 0.5]\n",
    "])\n",
    "\n",
    "nuevas = np.array([[37.1, -3.6]])\n",
    "\n",
    "Coordenadas_Modificadas = np.vstack((coordenadas, nuevas))\n",
    "\n",
    "print(\"Array actualizado:\\n\", Coordenadas_Modificadas)\n",
    "print(\"Dimensiones del nuevo array:\", Coordenadas_Modificadas.shape)\n",
    "\n"
   ]
  },
  {
   "cell_type": "markdown",
   "metadata": {},
   "source": [
    "### 6) Copie el array del ejercicio anterior. Traspóngalo (. Agregue ahora dos nuevos pares de coordenadas: (10.8, 3.0) y (35.8, 12.0)."
   ]
  },
  {
   "cell_type": "code",
   "execution_count": 11,
   "metadata": {},
   "outputs": [
    {
     "name": "stdout",
     "output_type": "stream",
     "text": [
      "Array con nuevas coordenadas:\n",
      " [[ 1.33 30.   70.2  37.1  10.8  35.8 ]\n",
      " [ 4.5  10.7   0.5  -3.6   3.   12.  ]]\n"
     ]
    }
   ],
   "source": [
    "import numpy as np\n",
    "\n",
    "coordenadas = np.array([\n",
    "    [1.33, 4.5],\n",
    "    [30.0, 10.7],\n",
    "    [70.2, 0.5],\n",
    "    [37.1, -3.6]\n",
    "])\n",
    "\n",
    "copia_coordenadas = np.copy(coordenadas)\n",
    "\n",
    "coordenadas_transpuesta = copia_coordenadas.T\n",
    "\n",
    "nuevas_coordenadas = np.array([[10.8, 3.0], [35.8, 12.0]])\n",
    "\n",
    "coordenadas_actualizadas = np.hstack((coordenadas_transpuesta, nuevas_coordenadas.T))\n",
    "\n",
    "print(\"Array con nuevas coordenadas:\\n\", coordenadas_actualizadas)\n"
   ]
  },
  {
   "cell_type": "markdown",
   "metadata": {},
   "source": [
    "## Parte 2: Exploración y Minería de Datos:\n",
    "\n",
    "### Con el dataset nucleospoblacion.csv adjunto al laboratorio, luego responda las siguientes preguntas usando pandas y matplotlib. "
   ]
  },
  {
   "cell_type": "code",
   "execution_count": 14,
   "metadata": {},
   "outputs": [
    {
     "name": "stdout",
     "output_type": "stream",
     "text": [
      "   FID  OBJECTID     Texto  Poblacion  CodMun Municipio  CodProvin  \\\n",
      "0    0         1   Agüimes    29431.0   35002   Agüimes         35   \n",
      "1    1         2   Antigua    10458.0   35003   Antigua         35   \n",
      "2    2         3  Arrecife    58156.0   35004  Arrecife         35   \n",
      "3    3         4    Arucas    36745.0   35006    Arucas         35   \n",
      "4    4         5    Gáldar    24473.0   35009    Gáldar         35   \n",
      "\n",
      "    Provincia          X          Y  \n",
      "0  Las Palmas -15.446012  27.900542  \n",
      "1  Las Palmas -14.013301  28.418966  \n",
      "2  Las Palmas -13.551451  28.960649  \n",
      "3  Las Palmas -15.521512  28.117496  \n",
      "4  Las Palmas -15.654111  28.143873  \n",
      "<class 'pandas.core.frame.DataFrame'>\n",
      "RangeIndex: 852 entries, 0 to 851\n",
      "Data columns (total 10 columns):\n",
      " #   Column     Non-Null Count  Dtype  \n",
      "---  ------     --------------  -----  \n",
      " 0   FID        852 non-null    int64  \n",
      " 1   OBJECTID   852 non-null    int64  \n",
      " 2   Texto      852 non-null    object \n",
      " 3   Poblacion  852 non-null    float64\n",
      " 4   CodMun     852 non-null    int64  \n",
      " 5   Municipio  852 non-null    object \n",
      " 6   CodProvin  852 non-null    int64  \n",
      " 7   Provincia  852 non-null    object \n",
      " 8   X          852 non-null    float64\n",
      " 9   Y          852 non-null    float64\n",
      "dtypes: float64(3), int64(4), object(3)\n",
      "memory usage: 66.7+ KB\n",
      "None\n",
      "Index(['FID', 'OBJECTID', 'Texto', 'Poblacion', 'CodMun', 'Municipio',\n",
      "       'CodProvin', 'Provincia', 'X', 'Y'],\n",
      "      dtype='object')\n"
     ]
    }
   ],
   "source": [
    "import pandas as pd\n",
    "import matplotlib.pyplot as plt\n",
    "import seaborn as sns\n",
    "from geopy.distance import geodesic\n",
    "\n",
    "ruta_archivo = \"Datos_Laboratorio.csv\"\n",
    "df = pd.read_csv(ruta_archivo)\n",
    "\n",
    "print(df.head())\n",
    "print(df.info())\n",
    "print(df.columns)\n"
   ]
  },
  {
   "cell_type": "code",
   "execution_count": 13,
   "metadata": {},
   "outputs": [
    {
     "name": "stdout",
     "output_type": "stream",
     "text": [
      "Collecting pandas\n",
      "  Downloading pandas-2.2.3-cp311-cp311-win_amd64.whl.metadata (19 kB)\n",
      "Collecting matplotlib\n",
      "  Downloading matplotlib-3.10.1-cp311-cp311-win_amd64.whl.metadata (11 kB)\n",
      "Collecting seaborn\n",
      "  Downloading seaborn-0.13.2-py3-none-any.whl.metadata (5.4 kB)\n",
      "Collecting geopy\n",
      "  Downloading geopy-2.4.1-py3-none-any.whl.metadata (6.8 kB)\n",
      "Requirement already satisfied: numpy>=1.23.2 in c:\\users\\merca25\\appdata\\local\\packages\\pythonsoftwarefoundation.python.3.11_qbz5n2kfra8p0\\localcache\\local-packages\\python311\\site-packages (from pandas) (2.2.4)\n",
      "Requirement already satisfied: python-dateutil>=2.8.2 in c:\\users\\merca25\\appdata\\local\\packages\\pythonsoftwarefoundation.python.3.11_qbz5n2kfra8p0\\localcache\\local-packages\\python311\\site-packages (from pandas) (2.9.0.post0)\n",
      "Collecting pytz>=2020.1 (from pandas)\n",
      "  Downloading pytz-2025.1-py2.py3-none-any.whl.metadata (22 kB)\n",
      "Collecting tzdata>=2022.7 (from pandas)\n",
      "  Downloading tzdata-2025.1-py2.py3-none-any.whl.metadata (1.4 kB)\n",
      "Collecting contourpy>=1.0.1 (from matplotlib)\n",
      "  Downloading contourpy-1.3.1-cp311-cp311-win_amd64.whl.metadata (5.4 kB)\n",
      "Collecting cycler>=0.10 (from matplotlib)\n",
      "  Downloading cycler-0.12.1-py3-none-any.whl.metadata (3.8 kB)\n",
      "Collecting fonttools>=4.22.0 (from matplotlib)\n",
      "  Downloading fonttools-4.56.0-cp311-cp311-win_amd64.whl.metadata (103 kB)\n",
      "     ---------------------------------------- 0.0/104.0 kB ? eta -:--:--\n",
      "     -------------- ---------------------- 41.0/104.0 kB 991.0 kB/s eta 0:00:01\n",
      "     -------------------------------------- 104.0/104.0 kB 1.2 MB/s eta 0:00:00\n",
      "Collecting kiwisolver>=1.3.1 (from matplotlib)\n",
      "  Downloading kiwisolver-1.4.8-cp311-cp311-win_amd64.whl.metadata (6.3 kB)\n",
      "Requirement already satisfied: packaging>=20.0 in c:\\users\\merca25\\appdata\\local\\packages\\pythonsoftwarefoundation.python.3.11_qbz5n2kfra8p0\\localcache\\local-packages\\python311\\site-packages (from matplotlib) (24.2)\n",
      "Collecting pillow>=8 (from matplotlib)\n",
      "  Downloading pillow-11.1.0-cp311-cp311-win_amd64.whl.metadata (9.3 kB)\n",
      "Collecting pyparsing>=2.3.1 (from matplotlib)\n",
      "  Downloading pyparsing-3.2.1-py3-none-any.whl.metadata (5.0 kB)\n",
      "Collecting geographiclib<3,>=1.52 (from geopy)\n",
      "  Downloading geographiclib-2.0-py3-none-any.whl.metadata (1.4 kB)\n",
      "Requirement already satisfied: six>=1.5 in c:\\users\\merca25\\appdata\\local\\packages\\pythonsoftwarefoundation.python.3.11_qbz5n2kfra8p0\\localcache\\local-packages\\python311\\site-packages (from python-dateutil>=2.8.2->pandas) (1.17.0)\n",
      "Downloading pandas-2.2.3-cp311-cp311-win_amd64.whl (11.6 MB)\n",
      "   ---------------------------------------- 0.0/11.6 MB ? eta -:--:--\n",
      "   ---------------------------------------- 0.1/11.6 MB 3.6 MB/s eta 0:00:04\n",
      "    --------------------------------------- 0.3/11.6 MB 3.4 MB/s eta 0:00:04\n",
      "   - -------------------------------------- 0.5/11.6 MB 3.9 MB/s eta 0:00:03\n",
      "   --- ------------------------------------ 1.0/11.6 MB 5.6 MB/s eta 0:00:02\n",
      "   ---- ----------------------------------- 1.2/11.6 MB 6.1 MB/s eta 0:00:02\n",
      "   ----- ---------------------------------- 1.6/11.6 MB 6.3 MB/s eta 0:00:02\n",
      "   ------ --------------------------------- 1.8/11.6 MB 6.2 MB/s eta 0:00:02\n",
      "   ------- -------------------------------- 2.2/11.6 MB 6.4 MB/s eta 0:00:02\n",
      "   --------- ------------------------------ 2.6/11.6 MB 6.7 MB/s eta 0:00:02\n",
      "   ---------- ----------------------------- 2.9/11.6 MB 6.7 MB/s eta 0:00:02\n",
      "   ----------- ---------------------------- 3.4/11.6 MB 7.3 MB/s eta 0:00:02\n",
      "   ------------- -------------------------- 3.8/11.6 MB 7.4 MB/s eta 0:00:02\n",
      "   -------------- ------------------------- 4.3/11.6 MB 7.8 MB/s eta 0:00:01\n",
      "   ---------------- ----------------------- 4.7/11.6 MB 7.7 MB/s eta 0:00:01\n",
      "   ----------------- ---------------------- 5.0/11.6 MB 7.6 MB/s eta 0:00:01\n",
      "   ------------------ --------------------- 5.4/11.6 MB 7.6 MB/s eta 0:00:01\n",
      "   -------------------- ------------------- 5.8/11.6 MB 7.8 MB/s eta 0:00:01\n",
      "   --------------------- ------------------ 6.3/11.6 MB 8.0 MB/s eta 0:00:01\n",
      "   ---------------------- ----------------- 6.4/11.6 MB 7.9 MB/s eta 0:00:01\n",
      "   ---------------------- ----------------- 6.4/11.6 MB 7.9 MB/s eta 0:00:01\n",
      "   ----------------------- ---------------- 6.7/11.6 MB 7.0 MB/s eta 0:00:01\n",
      "   ------------------------ --------------- 7.1/11.6 MB 7.2 MB/s eta 0:00:01\n",
      "   ------------------------- -------------- 7.5/11.6 MB 7.3 MB/s eta 0:00:01\n",
      "   -------------------------- ------------- 7.7/11.6 MB 7.1 MB/s eta 0:00:01\n",
      "   ---------------------------- ----------- 8.3/11.6 MB 7.4 MB/s eta 0:00:01\n",
      "   ------------------------------ --------- 8.9/11.6 MB 7.6 MB/s eta 0:00:01\n",
      "   ------------------------------ --------- 8.9/11.6 MB 7.6 MB/s eta 0:00:01\n",
      "   ------------------------------- -------- 9.2/11.6 MB 7.3 MB/s eta 0:00:01\n",
      "   -------------------------------- ------- 9.5/11.6 MB 7.3 MB/s eta 0:00:01\n",
      "   ---------------------------------- ----- 10.0/11.6 MB 7.5 MB/s eta 0:00:01\n",
      "   ------------------------------------- -- 10.8/11.6 MB 8.1 MB/s eta 0:00:01\n",
      "   ---------------------------------------  11.4/11.6 MB 8.3 MB/s eta 0:00:01\n",
      "   ---------------------------------------  11.6/11.6 MB 8.2 MB/s eta 0:00:01\n",
      "   ---------------------------------------- 11.6/11.6 MB 8.0 MB/s eta 0:00:00\n",
      "Downloading matplotlib-3.10.1-cp311-cp311-win_amd64.whl (8.1 MB)\n",
      "   ---------------------------------------- 0.0/8.1 MB ? eta -:--:--\n",
      "   -- ------------------------------------- 0.6/8.1 MB 12.7 MB/s eta 0:00:01\n",
      "   ----- ---------------------------------- 1.2/8.1 MB 12.9 MB/s eta 0:00:01\n",
      "   -------- ------------------------------- 1.7/8.1 MB 12.2 MB/s eta 0:00:01\n",
      "   ------------ --------------------------- 2.5/8.1 MB 13.2 MB/s eta 0:00:01\n",
      "   ------------- -------------------------- 2.7/8.1 MB 12.5 MB/s eta 0:00:01\n",
      "   ------------- -------------------------- 2.8/8.1 MB 10.4 MB/s eta 0:00:01\n",
      "   ---------------- ----------------------- 3.3/8.1 MB 10.5 MB/s eta 0:00:01\n",
      "   ------------------- -------------------- 3.9/8.1 MB 10.8 MB/s eta 0:00:01\n",
      "   --------------------- ------------------ 4.3/8.1 MB 10.6 MB/s eta 0:00:01\n",
      "   ------------------------ --------------- 5.0/8.1 MB 10.9 MB/s eta 0:00:01\n",
      "   --------------------------- ------------ 5.5/8.1 MB 10.9 MB/s eta 0:00:01\n",
      "   ------------------------------ --------- 6.1/8.1 MB 10.8 MB/s eta 0:00:01\n",
      "   --------------------------------- ------ 6.7/8.1 MB 11.1 MB/s eta 0:00:01\n",
      "   ---------------------------------- ----- 7.0/8.1 MB 11.0 MB/s eta 0:00:01\n",
      "   ----------------------------------- ---- 7.1/8.1 MB 10.3 MB/s eta 0:00:01\n",
      "   ------------------------------------- -- 7.6/8.1 MB 10.2 MB/s eta 0:00:01\n",
      "   ---------------------------------------  8.1/8.1 MB 10.5 MB/s eta 0:00:01\n",
      "   ---------------------------------------- 8.1/8.1 MB 10.1 MB/s eta 0:00:00\n",
      "Downloading seaborn-0.13.2-py3-none-any.whl (294 kB)\n",
      "   ---------------------------------------- 0.0/294.9 kB ? eta -:--:--\n",
      "   ------------------------------------ -- 276.5/294.9 kB 16.6 MB/s eta 0:00:01\n",
      "   ---------------------------------------- 294.9/294.9 kB 9.2 MB/s eta 0:00:00\n",
      "Downloading geopy-2.4.1-py3-none-any.whl (125 kB)\n",
      "   ---------------------------------------- 0.0/125.4 kB ? eta -:--:--\n",
      "   ---------------------------------------- 125.4/125.4 kB 7.7 MB/s eta 0:00:00\n",
      "Downloading contourpy-1.3.1-cp311-cp311-win_amd64.whl (219 kB)\n",
      "   ---------------------------------------- 0.0/219.8 kB ? eta -:--:--\n",
      "   ---------------------------------------- 219.8/219.8 kB 6.8 MB/s eta 0:00:00\n",
      "Downloading cycler-0.12.1-py3-none-any.whl (8.3 kB)\n",
      "Downloading fonttools-4.56.0-cp311-cp311-win_amd64.whl (2.2 MB)\n",
      "   ---------------------------------------- 0.0/2.2 MB ? eta -:--:--\n",
      "   -------- ------------------------------- 0.5/2.2 MB 14.4 MB/s eta 0:00:01\n",
      "   ------------------- -------------------- 1.1/2.2 MB 11.5 MB/s eta 0:00:01\n",
      "   ----------------------------- ---------- 1.6/2.2 MB 12.9 MB/s eta 0:00:01\n",
      "   ------------------------------------- -- 2.1/2.2 MB 11.1 MB/s eta 0:00:01\n",
      "   ---------------------------------------- 2.2/2.2 MB 10.0 MB/s eta 0:00:00\n",
      "Downloading geographiclib-2.0-py3-none-any.whl (40 kB)\n",
      "   ---------------------------------------- 0.0/40.3 kB ? eta -:--:--\n",
      "   ---------------------------------------- 40.3/40.3 kB 2.0 MB/s eta 0:00:00\n",
      "Downloading kiwisolver-1.4.8-cp311-cp311-win_amd64.whl (71 kB)\n",
      "   ---------------------------------------- 0.0/72.0 kB ? eta -:--:--\n",
      "   ---------------------------------------- 72.0/72.0 kB 4.1 MB/s eta 0:00:00\n",
      "Downloading pillow-11.1.0-cp311-cp311-win_amd64.whl (2.6 MB)\n",
      "   ---------------------------------------- 0.0/2.6 MB ? eta -:--:--\n",
      "   ----- ---------------------------------- 0.4/2.6 MB 23.7 MB/s eta 0:00:01\n",
      "   ----------------- ---------------------- 1.2/2.6 MB 15.0 MB/s eta 0:00:01\n",
      "   ----------------------- ---------------- 1.6/2.6 MB 12.5 MB/s eta 0:00:01\n",
      "   ---------------------------------- ----- 2.3/2.6 MB 12.0 MB/s eta 0:00:01\n",
      "   ---------------------------------------  2.6/2.6 MB 11.9 MB/s eta 0:00:01\n",
      "   ---------------------------------------- 2.6/2.6 MB 10.5 MB/s eta 0:00:00\n",
      "Downloading pyparsing-3.2.1-py3-none-any.whl (107 kB)\n",
      "   ---------------------------------------- 0.0/107.7 kB ? eta -:--:--\n",
      "   ---------------------------------------- 107.7/107.7 kB 3.1 MB/s eta 0:00:00\n",
      "Downloading pytz-2025.1-py2.py3-none-any.whl (507 kB)\n",
      "   ---------------------------------------- 0.0/507.9 kB ? eta -:--:--\n",
      "   ------------------------------------ --- 460.8/507.9 kB 9.8 MB/s eta 0:00:01\n",
      "   --------------------------------------- 507.9/507.9 kB 10.8 MB/s eta 0:00:00\n",
      "Downloading tzdata-2025.1-py2.py3-none-any.whl (346 kB)\n",
      "   ---------------------------------------- 0.0/346.8 kB ? eta -:--:--\n",
      "   ------------------------------------ -- 327.7/346.8 kB 10.2 MB/s eta 0:00:01\n",
      "   ---------------------------------------- 346.8/346.8 kB 5.4 MB/s eta 0:00:00\n",
      "Installing collected packages: pytz, tzdata, pyparsing, pillow, kiwisolver, geographiclib, fonttools, cycler, contourpy, pandas, matplotlib, geopy, seaborn\n",
      "Successfully installed contourpy-1.3.1 cycler-0.12.1 fonttools-4.56.0 geographiclib-2.0 geopy-2.4.1 kiwisolver-1.4.8 matplotlib-3.10.1 pandas-2.2.3 pillow-11.1.0 pyparsing-3.2.1 pytz-2025.1 seaborn-0.13.2 tzdata-2025.1\n"
     ]
    },
    {
     "name": "stderr",
     "output_type": "stream",
     "text": [
      "\n",
      "[notice] A new release of pip is available: 24.0 -> 25.0.1\n",
      "[notice] To update, run: python.exe -m pip install --upgrade pip\n"
     ]
    }
   ],
   "source": [
    "!pip install pandas matplotlib seaborn geopy"
   ]
  },
  {
   "cell_type": "markdown",
   "metadata": {},
   "source": [
    "### 1) ¿Cuántos Municipios tienen más de 100000 habitantes?. "
   ]
  },
  {
   "cell_type": "code",
   "execution_count": 16,
   "metadata": {},
   "outputs": [
    {
     "name": "stdout",
     "output_type": "stream",
     "text": [
      "Municipios que tienen  mas de 100,000 habitantes: 62\n"
     ]
    }
   ],
   "source": [
    "municipios = df[df['Poblacion'] > 100000]\n",
    "num_municipios = municipios.shape[0]\n",
    "print(f\"Municipios que tienen  mas de 100,000 habitantes: {num_municipios}\")\n"
   ]
  },
  {
   "cell_type": "markdown",
   "metadata": {},
   "source": [
    "### 2) Realice una gráfica de barras sobre la polbación de cada ciudad, ordenela de menor a mayo y responda: \n",
    " \n",
    "a. ¿Cuál es la segunda ciudad más poblada? \n",
    "b. ¿Qué posición ocupa Granada en el ranking de las ciudades más pobladas? "
   ]
  },
  {
   "cell_type": "code",
   "execution_count": 31,
   "metadata": {},
   "outputs": [
    {
     "data": {
      "image/png": "[encoded data removed]",
      "text/plain": [
       "<Figure size 1000x600 with 1 Axes>"
      ]
     },
     "metadata": {},
     "output_type": "display_data"
    },
    {
     "ename": "NameError",
     "evalue": "name 'df_' is not defined",
     "output_type": "error",
     "traceback": [
      "\u001b[31m---------------------------------------------------------------------------\u001b[39m",
      "\u001b[31mNameError\u001b[39m                                 Traceback (most recent call last)",
      "\u001b[36mCell\u001b[39m\u001b[36m \u001b[39m\u001b[32mIn[31]\u001b[39m\u001b[32m, line 24\u001b[39m\n\u001b[32m     20\u001b[39m plt.tight_layout()\n\u001b[32m     22\u001b[39m plt.show()\n\u001b[32m---> \u001b[39m\u001b[32m24\u001b[39m segunda_ciudad = \u001b[43mdf_\u001b[49m\n",
      "\u001b[31mNameError\u001b[39m: name 'df_' is not defined"
     ]
    }
   ],
   "source": [
    "import pandas as pd\n",
    "import matplotlib.pyplot as plt\n",
    "\n",
    "df = pd.read_csv('Datos_Laboratorio.csv')\n",
    "\n",
    "df_ordenado = df.sort_values(by=\"Poblacion\", ascending=True)\n",
    "\n",
    "df_ordenado_limited = df_ordenado.tail(10)\n",
    "\n",
    "plt.figure(figsize=(10, 6))  \n",
    "plt.bar(df_ordenado_limited[\"Municipio\"], df_ordenado_limited[\"Poblacion\"], color='skyblue')\n",
    "\n",
    "\n",
    "plt.xlabel(\"Municipio\", fontsize=12)\n",
    "plt.ylabel(\"Población\", fontsize=12)\n",
    "plt.title(\"Top 10 municipios más poblados\", fontsize=14)\n",
    "plt.xticks(rotation=45, ha=\"right\", fontsize=10) \n",
    "plt.yticks(fontsize=10)  \n",
    "\n",
    "plt.tight_layout()\n",
    "\n",
    "plt.show()\n",
    "\n",
    "segunda_ciudad = df_\n",
    "\n"
   ]
  },
  {
   "cell_type": "markdown",
   "metadata": {},
   "source": [
    "### 3) ¿Cuántos municipios de La Rioja tienen más de 20,000 habitantes?. "
   ]
  },
  {
   "cell_type": "code",
   "execution_count": 19,
   "metadata": {},
   "outputs": [
    {
     "name": "stdout",
     "output_type": "stream",
     "text": [
      "El número de municipios de La Rioja con más de 20,000 habitantes es: 2\n"
     ]
    }
   ],
   "source": [
    "Municipios_La_rioja = df[df['Provincia'] == 'La Rioja']\n",
    "\n",
    "Municipios_mayor_habitantes = Municipios_La_rioja[Municipios_La_rioja['Poblacion'] > 20000]\n",
    "\n",
    "num_Municipios_mayor_habitantes = Municipios_mayor_habitantes.shape[0]\n",
    "\n",
    "print(f\"El número de municipios de La Rioja con más de 20,000 habitantes es: {num_Municipios_mayor_habitantes}\")\n"
   ]
  },
  {
   "cell_type": "markdown",
   "metadata": {},
   "source": [
    "### 4) ¿Cuál es el municipio situado más al Norte? (Usar el valor de la coordenada \"Y\" que representa la latitud en grados). Proporcione también la provincia a la que pertenece y su población. "
   ]
  },
  {
   "cell_type": "code",
   "execution_count": 21,
   "metadata": {},
   "outputs": [
    {
     "name": "stdout",
     "output_type": "stream",
     "text": [
      "El municipio al norte es Viveiro.\n",
      "de la provincia de Lugo.\n",
      "Su población es de 16211.0.\n",
      "La latitud del municipio es 43.6255783851.\n"
     ]
    }
   ],
   "source": [
    "df['Y'] = pd.to_numeric(df['Y'], errors='coerce')\n",
    "\n",
    "Norte = df.loc[df['Y'].idxmax()]\n",
    "\n",
    "Norte_nombre = Norte['Municipio']\n",
    "Norte_provincia = Norte['Provincia']\n",
    "Norte_poblacion = Norte['Poblacion']\n",
    "Norte_latitud = Norte['Y']\n",
    "\n",
    "print(f\"El municipio al norte es {Norte_nombre}.\")\n",
    "print(f\"de la provincia de {Norte_provincia}.\")\n",
    "print(f\"Su población es de {Norte_poblacion}.\")\n",
    "print(f\"La latitud del municipio es {Norte_latitud}.\")"
   ]
  },
  {
   "cell_type": "markdown",
   "metadata": {},
   "source": [
    "### 5) Obtenga la media, mediana, desviación estándar, valor máximo y valor mínimo de la población de los municipios de la provincia de Granada. "
   ]
  },
  {
   "cell_type": "code",
   "execution_count": 22,
   "metadata": {},
   "outputs": [
    {
     "name": "stdout",
     "output_type": "stream",
     "text": [
      "Media: 30217.85\n",
      "Mediana: 17526.0\n",
      "Desviación estándar: 50355.49171459276\n",
      "Valor máximo: 239154.0\n",
      "Valor mínimo : 10386.0\n"
     ]
    }
   ],
   "source": [
    "municipios = df[df['Provincia'] == 'Granada']\n",
    "\n",
    "media = municipios['Poblacion'].mean()\n",
    "mediana = municipios['Poblacion'].median()\n",
    "desviacion_estandar = municipios['Poblacion'].std()\n",
    "max = municipios['Poblacion'].max()\n",
    "min = municipios['Poblacion'].min()\n",
    "\n",
    "print(f\"Media: {media}\")\n",
    "print(f\"Mediana: {mediana}\")\n",
    "print(f\"Desviación estándar: {desviacion_estandar}\")\n",
    "print(f\"Valor máximo: {max}\")\n",
    "print(f\"Valor mínimo : {min}\")\n"
   ]
  },
  {
   "cell_type": "markdown",
   "metadata": {},
   "source": [
    "### 6) Realice un histograma con la población de los Municipios para cada una de las provincias.  "
   ]
  },
  {
   "cell_type": "code",
   "execution_count": 28,
   "metadata": {},
   "outputs": [
    {
     "name": "stderr",
     "output_type": "stream",
     "text": [
      "C:\\Users\\MERCA25\\AppData\\Local\\Temp\\ipykernel_18424\\86604006.py:12: UserWarning: No artists with labels found to put in legend.  Note that artists whose label start with an underscore are ignored when legend() is called with no argument.\n",
      "  plt.legend(title='Provincias', bbox_to_anchor=(1.05, 1), loc='upper left')\n"
     ]
    },
    {
     "data": {
      "image/png": "[encoded data removed]",
      "text/plain": [
       "<Figure size 1000x600 with 1 Axes>"
      ]
     },
     "metadata": {},
     "output_type": "display_data"
    }
   ],
   "source": [
    "import matplotlib.pyplot as plt\n",
    "import seaborn as sns\n",
    "\n",
    "df_filtered = df[df['Poblacion'] < df['Poblacion'].quantile(0.95)]  # Excluyendo el 5% superior\n",
    "\n",
    "plt.figure(figsize=(10, 6))\n",
    "sns.histplot(data=df_filtered, x='Poblacion', hue='Provincia', multiple=\"stack\", palette=\"Set2\", bins=50)\n",
    "\n",
    "plt.title('Distribución de la Población de los Municipios por Provincia', fontsize=16)\n",
    "plt.xlabel('Población', fontsize=12)\n",
    "plt.ylabel('Frecuencia', fontsize=12)\n",
    "plt.legend(title='Provincias', bbox_to_anchor=(1.05, 1), loc='upper left')\n",
    "\n",
    "plt.tight_layout()\n",
    "\n",
    "plt.show()\n",
    "\n"
   ]
  },
  {
   "cell_type": "markdown",
   "metadata": {},
   "source": [
    "### 7. Seleccione al azar cincuenta municipios diferentes de entre los diponibles en el archivo. Asegúrese de que no se repitan. ¿Luego calcule el promedio de la población y la desviación estándar de esto 50 municipios?. "
   ]
  },
  {
   "cell_type": "code",
   "execution_count": 25,
   "metadata": {},
   "outputs": [
    {
     "name": "stdout",
     "output_type": "stream",
     "text": [
      "Promedio aleatorio: 36,000.82\n",
      "Desviación estándar datos aleatorios: 44,560.11\n"
     ]
    }
   ],
   "source": [
    "promedio = seleccion['Poblacion'].mean()\n",
    "desviacion_estandar = seleccion['Poblacion'].std()\n",
    "\n",
    "promedio_redondeado = \"{:,.2f}\".format(promedio)\n",
    "desviacion_estandar_redondeada = \"{:,.2f}\".format(desviacion_estandar)\n",
    "\n",
    "print(f\"Promedio aleatorio: {promedio_redondeado}\")\n",
    "print(f\"Desviación estándar datos aleatorios: {desviacion_estandar_redondeada}\")\n",
    "\n"
   ]
  },
  {
   "cell_type": "markdown",
   "metadata": {},
   "source": [
    "### 8. ) Dígame los nombres de los Municipios más cercano y más lejano a Madrid. Para ello debe calcular la distancia en todos ellos y Madrid. No considere a Madrid en el análisis ya que la distancia sería cero. "
   ]
  },
  {
   "cell_type": "code",
   "execution_count": 26,
   "metadata": {},
   "outputs": [
    {
     "name": "stdout",
     "output_type": "stream",
     "text": [
      "Municipio más cercano a Madrid: Pozuelo de Alarcón\n",
      "Distancia: 6.91 km\n",
      "Municipio más lejano a Madrid: Los Llanos de Aridane\n",
      "Distancia: 1840.23 km\n"
     ]
    }
   ],
   "source": [
    "import math\n",
    "\n",
    "madrid_lat = 40.4168 \n",
    "madrid_lon = -3.7038\n",
    "\n",
    "def haversine(lat1, lon1, lat2, lon2):\n",
    "    lat1, lon1, lat2, lon2 = map(math.radians, [lat1, lon1, lat2, lon2])\n",
    "    \n",
    "    dlat = lat2 - lat1\n",
    "    dlon = lon2 - lon1\n",
    "    \n",
    "    a = math.sin(dlat / 2)**2 + math.cos(lat1) * math.cos(lat2) * math.sin(dlon / 2)**2\n",
    "    c = 2 * math.atan2(math.sqrt(a), math.sqrt(1 - a))\n",
    "    \n",
    "    R = 6371.0\n",
    "    \n",
    "    distancia = R * c\n",
    "    return distancia\n",
    "\n",
    "df['Distancia_a_Madrid'] = df.apply(lambda row: haversine(madrid_lat, madrid_lon, row['Y'], row['X']), axis=1)\n",
    "\n",
    "df_sin_madrid = df[df['Municipio'] != 'Madrid']\n",
    "\n",
    "municipio_mas_cercano = df_sin_madrid.loc[df_sin_madrid['Distancia_a_Madrid'].idxmin()]\n",
    "municipio_mas_lejano = df_sin_madrid.loc[df_sin_madrid['Distancia_a_Madrid'].idxmax()]\n",
    "\n",
    "print(f\"Municipio más cercano a Madrid: {municipio_mas_cercano['Municipio']}\")\n",
    "print(f\"Distancia: {municipio_mas_cercano['Distancia_a_Madrid']:.2f} km\")\n",
    "\n",
    "print(f\"Municipio más lejano a Madrid: {municipio_mas_lejano['Municipio']}\")\n",
    "print(f\"Distancia: {municipio_mas_lejano['Distancia_a_Madrid']:.2f} km\")\n"
   ]
  },
  {
   "cell_type": "code",
   "execution_count": null,
   "metadata": {},
   "outputs": [],
   "source": []
  }
 ],
 "metadata": {
  "kernelspec": {
   "display_name": "Python 3",
   "language": "python",
   "name": "python3"
  },
  "language_info": {
   "codemirror_mode": {
    "name": "ipython",
    "version": 3
   },
   "file_extension": ".py",
   "mimetype": "text/x-python",
   "name": "python",
   "nbconvert_exporter": "python",
   "pygments_lexer": "ipython3",
   "version": "3.11.9"
  }
 },
 "nbformat": 4,
 "nbformat_minor": 2
}
